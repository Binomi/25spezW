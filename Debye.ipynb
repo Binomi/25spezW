{
 "metadata": {
  "name": "",
  "signature": "sha256:fe7d71c2a1042a2141bf4e3b3fba12004caaad17f59b25c722918dbdb394ef70"
 },
 "nbformat": 3,
 "nbformat_minor": 0,
 "worksheets": [
  {
   "cells": [
    {
     "cell_type": "code",
     "collapsed": false,
     "input": [
      "import math\n",
      "R=8.314"
     ],
     "language": "python",
     "metadata": {},
     "outputs": [],
     "prompt_number": 1
    },
    {
     "cell_type": "code",
     "collapsed": false,
     "input": [
      "def f(x):\n",
      "    return math.exp(x)*x**4/(math.exp(x)-1)**2\n",
      "\n",
      "def c_m(t):\n",
      "    integral=0.0\n",
      "    x=0.0\n",
      "    dx=0.0001\n",
      "    while x<=1/t:\n",
      "        x+=dx\n",
      "        integral+=dx*f(x)\n",
      "    return 9.0*R*(t**3)*integral"
     ],
     "language": "python",
     "metadata": {},
     "outputs": [],
     "prompt_number": 7
    },
    {
     "cell_type": "code",
     "collapsed": false,
     "input": [
      "t=0.0\n",
      "while t<=1.0:\n",
      "    t+=0.01\n",
      "    print t,c_m(t)"
     ],
     "language": "python",
     "metadata": {},
     "outputs": [
      {
       "output_type": "stream",
       "stream": "stdout",
       "text": [
        "0.01 "
       ]
      },
      {
       "output_type": "stream",
       "stream": "stdout",
       "text": [
        "0.00194366203886\n",
        "0.02 "
       ]
      },
      {
       "output_type": "stream",
       "stream": "stdout",
       "text": [
        "0.0155492963109\n",
        "0.03 "
       ]
      },
      {
       "output_type": "stream",
       "stream": "stdout",
       "text": [
        "0.0524788750397\n",
        "0.04 "
       ]
      },
      {
       "output_type": "stream",
       "stream": "stdout",
       "text": [
        "0.124394339814\n",
        "0.05 "
       ]
      },
      {
       "output_type": "stream",
       "stream": "stdout",
       "text": [
        "0.242953951598\n",
        "0.06 "
       ]
      },
      {
       "output_type": "stream",
       "stream": "stdout",
       "text": [
        "0.419738150372\n",
        "0.07 "
       ]
      },
      {
       "output_type": "stream",
       "stream": "stdout",
       "text": [
        "0.665776027001\n",
        "0.08 "
       ]
      },
      {
       "output_type": "stream",
       "stream": "stdout",
       "text": [
        "0.990240482812\n",
        "0.09 "
       ]
      },
      {
       "output_type": "stream",
       "stream": "stdout",
       "text": [
        "1.39858764679\n",
        "0.1 "
       ]
      },
      {
       "output_type": "stream",
       "stream": "stdout",
       "text": [
        "1.89113255349\n",
        "0.11 "
       ]
      },
      {
       "output_type": "stream",
       "stream": "stdout",
       "text": [
        "2.46278607868\n",
        "0.12 "
       ]
      },
      {
       "output_type": "stream",
       "stream": "stdout",
       "text": [
        "3.10393161679\n",
        "0.13 "
       ]
      },
      {
       "output_type": "stream",
       "stream": "stdout",
       "text": [
        "3.80195673171\n",
        "0.14 "
       ]
      },
      {
       "output_type": "stream",
       "stream": "stdout",
       "text": [
        "4.54281629385\n",
        "0.15 "
       ]
      },
      {
       "output_type": "stream",
       "stream": "stdout",
       "text": [
        "5.31251011224\n",
        "0.16 "
       ]
      },
      {
       "output_type": "stream",
       "stream": "stdout",
       "text": [
        "6.09803103617\n",
        "0.17 "
       ]
      },
      {
       "output_type": "stream",
       "stream": "stdout",
       "text": [
        "6.88770199331\n",
        "0.18 "
       ]
      },
      {
       "output_type": "stream",
       "stream": "stdout",
       "text": [
        "7.67198657839\n",
        "0.19 "
       ]
      },
      {
       "output_type": "stream",
       "stream": "stdout",
       "text": [
        "8.44301609284\n",
        "0.2 "
       ]
      },
      {
       "output_type": "stream",
       "stream": "stdout",
       "text": [
        "9.19461752918\n",
        "0.21 "
       ]
      },
      {
       "output_type": "stream",
       "stream": "stdout",
       "text": [
        "9.92276651526\n",
        "0.22 "
       ]
      },
      {
       "output_type": "stream",
       "stream": "stdout",
       "text": [
        "10.6234896655\n",
        "0.23 "
       ]
      },
      {
       "output_type": "stream",
       "stream": "stdout",
       "text": [
        "11.2954316496\n",
        "0.24 "
       ]
      },
      {
       "output_type": "stream",
       "stream": "stdout",
       "text": [
        "11.9368508204\n",
        "0.25 "
       ]
      },
      {
       "output_type": "stream",
       "stream": "stdout",
       "text": [
        "12.5475902521\n",
        "0.26 "
       ]
      },
      {
       "output_type": "stream",
       "stream": "stdout",
       "text": [
        "13.1282246269\n",
        "0.27 "
       ]
      },
      {
       "output_type": "stream",
       "stream": "stdout",
       "text": [
        "13.6789002693\n",
        "0.28 14.1998119663\n",
        "0.29 "
       ]
      },
      {
       "output_type": "stream",
       "stream": "stdout",
       "text": [
        "14.6922649997\n",
        "0.3 15.1584394092\n",
        "0.31 "
       ]
      },
      {
       "output_type": "stream",
       "stream": "stdout",
       "text": [
        "15.5987078538\n",
        "0.32 16.0131458071\n",
        "0.33 "
       ]
      },
      {
       "output_type": "stream",
       "stream": "stdout",
       "text": [
        "16.4065087918\n",
        "0.34 16.7759015294\n",
        "0.35 "
       ]
      },
      {
       "output_type": "stream",
       "stream": "stdout",
       "text": [
        "17.1259781977\n",
        "0.36 17.4556574087\n",
        "0.37 "
       ]
      },
      {
       "output_type": "stream",
       "stream": "stdout",
       "text": [
        "17.7687092604\n",
        "0.38 18.0622400453\n",
        "0.39 "
       ]
      },
      {
       "output_type": "stream",
       "stream": "stdout",
       "text": [
        "18.3421770528\n",
        "0.4 18.6039758877\n",
        "0.41 "
       ]
      },
      {
       "output_type": "stream",
       "stream": "stdout",
       "text": [
        "18.8547450977\n",
        "0.42 19.0902969858\n",
        "0.43 "
       ]
      },
      {
       "output_type": "stream",
       "stream": "stdout",
       "text": [
        "19.3133276008\n",
        "0.44 19.5264434656\n",
        "0.45 "
       ]
      },
      {
       "output_type": "stream",
       "stream": "stdout",
       "text": [
        "19.7275951947\n",
        "0.46 19.9185830957\n",
        "0.47 "
       ]
      },
      {
       "output_type": "stream",
       "stream": "stdout",
       "text": [
        "20.0985884417\n",
        "0.48 20.2713075682\n",
        "0.49 "
       ]
      },
      {
       "output_type": "stream",
       "stream": "stdout",
       "text": [
        "20.4353348484\n",
        "0.5 20.5913908935\n",
        "0.51 "
       ]
      },
      {
       "output_type": "stream",
       "stream": "stdout",
       "text": [
        "20.7371564967\n",
        "0.52 20.8783618964\n",
        "0.53 "
       ]
      },
      {
       "output_type": "stream",
       "stream": "stdout",
       "text": [
        "21.0122576511\n",
        "0.54 21.1415908903\n",
        "0.55 21.2628834056\n",
        "0.56 "
       ]
      },
      {
       "output_type": "stream",
       "stream": "stdout",
       "text": [
        "21.381724693\n",
        "0.57 21.4908230014\n",
        "0.58 21.5989347859\n",
        "0.59 "
       ]
      },
      {
       "output_type": "stream",
       "stream": "stdout",
       "text": [
        "21.7015773597\n",
        "0.6 21.7971975706\n",
        "0.61 21.891268121\n",
        "0.62 "
       ]
      },
      {
       "output_type": "stream",
       "stream": "stdout",
       "text": [
        "21.9821342029\n",
        "0.63 22.0678274754\n",
        "0.64 22.1499883064\n",
        "0.65 "
       ]
      },
      {
       "output_type": "stream",
       "stream": "stdout",
       "text": [
        "22.2262735904\n",
        "0.66 22.3022097639\n",
        "0.67 22.375326915\n",
        "0.68 "
       ]
      },
      {
       "output_type": "stream",
       "stream": "stdout",
       "text": [
        "22.4428345373\n",
        "0.69 22.5103159637\n",
        "0.7 22.5748447769\n",
        "0.71 "
       ]
      },
      {
       "output_type": "stream",
       "stream": "stdout",
       "text": [
        "22.6376874276\n",
        "0.72 22.695524096\n",
        "0.73 22.754078239\n",
        "0.74 "
       ]
      },
      {
       "output_type": "stream",
       "stream": "stdout",
       "text": [
        "22.809885799\n",
        "0.75 22.8640087592\n",
        "0.76 22.9125852604\n",
        "0.77 "
       ]
      },
      {
       "output_type": "stream",
       "stream": "stdout",
       "text": [
        "22.9664790466\n",
        "0.78 23.0117289789\n",
        "0.79 23.0592977332\n",
        "0.8 "
       ]
      },
      {
       "output_type": "stream",
       "stream": "stdout",
       "text": [
        "23.1050224953\n",
        "0.81 23.1444161303\n",
        "0.82 23.1889569894\n",
        "0.83 23.2287400078\n",
        "0.84 "
       ]
      },
      {
       "output_type": "stream",
       "stream": "stdout",
       "text": [
        "23.2643954381\n",
        "0.85 23.3022342296\n",
        "0.86 23.3373845361\n",
        "0.87 23.3763292827\n",
        "0.88 "
       ]
      },
      {
       "output_type": "stream",
       "stream": "stdout",
       "text": [
        "23.4081201338\n",
        "0.89 23.4391662137\n",
        "0.9 23.4762055381\n",
        "0.91 23.5078109867\n",
        "0.92 "
       ]
      },
      {
       "output_type": "stream",
       "stream": "stdout",
       "text": [
        "23.5343995671\n",
        "0.93 23.5627184601\n",
        "0.94 23.5934334341\n",
        "0.95 23.620724448\n",
        "0.96 "
       ]
      },
      {
       "output_type": "stream",
       "stream": "stdout",
       "text": [
        "23.6450194726\n",
        "0.97 23.6733980449\n",
        "0.98 23.6998042979\n",
        "0.99 23.7246722499\n",
        "1.0 "
       ]
      },
      {
       "output_type": "stream",
       "stream": "stdout",
       "text": [
        "23.7484378474\n"
       ]
      }
     ],
     "prompt_number": 8
    },
    {
     "cell_type": "code",
     "collapsed": false,
     "input": [],
     "language": "python",
     "metadata": {},
     "outputs": []
    }
   ],
   "metadata": {}
  }
 ]
}